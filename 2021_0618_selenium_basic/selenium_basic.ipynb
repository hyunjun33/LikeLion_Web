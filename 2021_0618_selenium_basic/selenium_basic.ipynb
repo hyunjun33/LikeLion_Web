{
 "cells": [
  {
   "cell_type": "code",
   "execution_count": 2,
   "id": "681a12fc",
   "metadata": {},
   "outputs": [],
   "source": [
    "from selenium import webdriver"
   ]
  },
  {
   "cell_type": "code",
   "execution_count": 8,
   "id": "969e8d9d",
   "metadata": {},
   "outputs": [],
   "source": [
    "driver = webdriver.Chrome('chromedriver_90')"
   ]
  },
  {
   "cell_type": "code",
   "execution_count": 9,
   "id": "27d05719",
   "metadata": {},
   "outputs": [],
   "source": [
    "url = 'https://ldjwj.github.io/00_SBA01_BigData/05_HTML/idx_lec_list'\n",
    "driver.get(url)"
   ]
  },
  {
   "cell_type": "markdown",
   "id": "c7271072",
   "metadata": {},
   "source": [
    "### 셀레니움\n",
    "기존의 request module & BeautifulSoup 라이브러리를 사용하여 웹사이트의 데이터를 가져오는 방법의 경우\n",
    "웹사이트의 서버에서 크롤링 봇의 데이터 요청을 파악하여 데이터 전송이 막힐 수 있다.\n",
    "\n",
    "셀레니움은 특정 웹 브라우저에 직접 접근하여 작동을 제어하는 프레임워크이다.\n",
    "셀레니움을 이용하여 웹사이트의 URL를 주소로 접근하여 정보를 요청하는 것이 가능하다. \n",
    "(크롤링 봇으로 접근을 서버에서 파악하지 않는다는 점이 장점)\n",
    "\n",
    "실제 사람이 웹사이트에 검색하는 행동을 셀레니움 프레임워크는 파이썬과 같은 몇몇 특정 프로그래밍 언어의 명령어로 동작 알고리즘을 코드로 구현할 수 있다. 따라서 구현한 동작 알고리즘 코드를 적용하여 셀레니움 프레임워크로 웹 크롤링을 자동화하는 게 가능하다.\n",
    "\n",
    "셀레니움을 크롤링에 사용해야 하는 경우,\n",
    "- 해당 웹사이트가 프로그램을 통한 접근 허용하지 않는 경우\n",
    "- 해당 웹사이트가 로그인을 요구하는 경우\n",
    "- 해당 웹사이트가 동적 웹페이지로 구성되어 있는 경우\n",
    "\n",
    "단점 : 크롤링 처리 속도가 상대적으로 느리다."
   ]
  },
  {
   "cell_type": "code",
   "execution_count": 10,
   "id": "1233290d",
   "metadata": {},
   "outputs": [],
   "source": [
    "### url = 'https://ldjwj.github.io/00_SBA01_BigData/05_HTML/idx_lec_list'\n",
    "### 통계기본(xpath) /html/body/div/div/div/div/div[3]/div[4]/a\n",
    "### [selenium 객체].click() : 다른 페이지로 이동하는 매소드!\n"
   ]
  },
  {
   "cell_type": "code",
   "execution_count": 25,
   "id": "a8ab3676",
   "metadata": {},
   "outputs": [
    {
     "data": {
      "text/plain": [
       "<selenium.webdriver.remote.webelement.WebElement (session=\"fa0b483ace399a1cf261370d4c203e34\", element=\"34dda180-b5ff-46b0-82ea-496ee8de7596\")>"
      ]
     },
     "execution_count": 25,
     "metadata": {},
     "output_type": "execute_result"
    }
   ],
   "source": [
    "sel_link1 = driver.find_element_by_xpath('/html/body/div/div/div/div/div[3]/div[4]/a')\n",
    "sel_link1 # 셀레니움으로 요소를 가져오면 결과값은 WebElement라는 객체로 반환한다."
   ]
  },
  {
   "cell_type": "code",
   "execution_count": 26,
   "id": "403bd7ab",
   "metadata": {},
   "outputs": [
    {
     "name": "stdout",
     "output_type": "stream",
     "text": [
      "Link\n",
      "a\n"
     ]
    }
   ],
   "source": [
    "print(sel_link1.text)\n",
    "print(sel_link1.tag_name)"
   ]
  },
  {
   "cell_type": "code",
   "execution_count": 27,
   "id": "339d6b6e",
   "metadata": {},
   "outputs": [],
   "source": [
    "sel_link1.click()"
   ]
  },
  {
   "cell_type": "code",
   "execution_count": 32,
   "id": "b4474968",
   "metadata": {},
   "outputs": [],
   "source": [
    "driver.back()"
   ]
  },
  {
   "cell_type": "code",
   "execution_count": 39,
   "id": "779b15f7",
   "metadata": {},
   "outputs": [],
   "source": [
    "sel_all_div = driver.find_elements_by_class_name(\"row\")"
   ]
  },
  {
   "cell_type": "code",
   "execution_count": 45,
   "id": "77db2d49",
   "metadata": {},
   "outputs": [
    {
     "data": {
      "text/plain": [
       "'div'"
      ]
     },
     "execution_count": 45,
     "metadata": {},
     "output_type": "execute_result"
    }
   ],
   "source": [
    "# find_elements로 가져온 객체는 인덱싱이 가능하다.\n",
    "\n",
    "sel_all_div[0].tag_name"
   ]
  },
  {
   "cell_type": "code",
   "execution_count": 46,
   "id": "e30d4a14",
   "metadata": {},
   "outputs": [
    {
     "data": {
      "text/plain": [
       "<selenium.webdriver.remote.webelement.WebElement (session=\"fa0b483ace399a1cf261370d4c203e34\", element=\"acd98637-39ce-4884-b598-4dcd05ac9ea6\")>"
      ]
     },
     "execution_count": 46,
     "metadata": {},
     "output_type": "execute_result"
    }
   ],
   "source": [
    "sel_link2 = driver.find_element_by_xpath('/html/body/div/div/div/div/div[4]/div[4]/a')\n",
    "sel_link2"
   ]
  },
  {
   "cell_type": "code",
   "execution_count": 48,
   "id": "5c4c10ff",
   "metadata": {},
   "outputs": [],
   "source": [
    "url = 'https://pythonstart.github.io/web/'\n",
    "driver.get(url)\n",
    "\n",
    "# id로 가져오기\n",
    "\n",
    "sel_id = driver.find_element_by_id(\"rank\")"
   ]
  },
  {
   "cell_type": "code",
   "execution_count": 50,
   "id": "4a609a0f",
   "metadata": {},
   "outputs": [
    {
     "name": "stdout",
     "output_type": "stream",
     "text": [
      "10. 랭킹 정보 가져오기(웹 크롤링)\n",
      "a\n"
     ]
    }
   ],
   "source": [
    "print(sel_id.text)\n",
    "print(sel_id.tag_name)"
   ]
  },
  {
   "cell_type": "code",
   "execution_count": 52,
   "id": "f801b3d6",
   "metadata": {},
   "outputs": [
    {
     "name": "stdout",
     "output_type": "stream",
     "text": [
      "a 01. 제목 가져오기(title)\n",
      "a 02. 텍스트 가져오기(p)\n",
      "a 03. 링크 가져오기(a)\n",
      "a 04. 이미지 정보 가져오기(img)\n",
      "a 05. 리스트 정보 가져오기(ul,ol)\n",
      "a 06. id를 활용한 정보 획득\n",
      "a 07. class를 활용한 정보 획득\n",
      "a 08. 하나의 이미지 다운로드\n",
      "a 09. 여러개의 이미지 다운로드\n",
      "a 10. 랭킹 정보 가져오기(웹 크롤링)\n"
     ]
    }
   ],
   "source": [
    "# 태그 이름으로 가져오기\n",
    "\n",
    "sel_a_all = driver.find_elements_by_tag_name(\"a\")\n",
    "\n",
    "for one in sel_a_all:\n",
    "    print(one.tag_name, one.text)"
   ]
  },
  {
   "cell_type": "code",
   "execution_count": 54,
   "id": "32e702e0",
   "metadata": {},
   "outputs": [
    {
     "name": "stdout",
     "output_type": "stream",
     "text": [
      "a 01. 제목 가져오기(title)\n"
     ]
    }
   ],
   "source": [
    "# link_text로 가져오기\n",
    "\n",
    "sel_link = driver.find_element_by_link_text(\"01. 제목 가져오기(title)\")\n",
    "print(sel_link.tag_name, sel_link.text)"
   ]
  },
  {
   "cell_type": "code",
   "execution_count": 55,
   "id": "ebe5c3af",
   "metadata": {},
   "outputs": [
    {
     "data": {
      "text/plain": [
       "'https://pythonstart.github.io/web/01.html'"
      ]
     },
     "execution_count": 55,
     "metadata": {},
     "output_type": "execute_result"
    }
   ],
   "source": [
    "# 담아온 객체의 속성 데이터를 가져오기\n",
    "\n",
    "sel_link.get_attribute(\"href\")"
   ]
  },
  {
   "cell_type": "code",
   "execution_count": 56,
   "id": "a9438a60",
   "metadata": {},
   "outputs": [
    {
     "name": "stdout",
     "output_type": "stream",
     "text": [
      "a 01. 제목 가져오기(title)\n",
      "a 03. 링크 가져오기(a)\n"
     ]
    }
   ],
   "source": [
    "# name 속성으로 가져오기\n",
    "\n",
    "sel_names = driver.find_elements_by_name(\"link_get\")\n",
    "\n",
    "for i in sel_names:\n",
    "    print(i.tag_name, i.text)"
   ]
  },
  {
   "cell_type": "code",
   "execution_count": 57,
   "id": "14c4de7e",
   "metadata": {},
   "outputs": [
    {
     "name": "stdout",
     "output_type": "stream",
     "text": [
      "a 01. 제목 가져오기(title)\n",
      "a 02. 텍스트 가져오기(p)\n",
      "a 03. 링크 가져오기(a)\n",
      "a 04. 이미지 정보 가져오기(img)\n",
      "a 05. 리스트 정보 가져오기(ul,ol)\n",
      "a 06. id를 활용한 정보 획득\n",
      "a 07. class를 활용한 정보 획득\n",
      "a 08. 하나의 이미지 다운로드\n",
      "a 09. 여러개의 이미지 다운로드\n",
      "a 10. 랭킹 정보 가져오기(웹 크롤링)\n"
     ]
    }
   ],
   "source": [
    "# selector를 이용한 접근\n",
    "\n",
    "sel_css = driver.find_elements_by_css_selector(\"body ul a\")\n",
    "\n",
    "for one in sel_css:\n",
    "    print(one.tag_name, one.text)"
   ]
  },
  {
   "cell_type": "code",
   "execution_count": 58,
   "id": "b9d74534",
   "metadata": {},
   "outputs": [
    {
     "name": "stdout",
     "output_type": "stream",
     "text": [
      "a 01. 제목 가져오기(title)\n",
      "a 02. 텍스트 가져오기(p)\n",
      "a 03. 링크 가져오기(a)\n",
      "a 04. 이미지 정보 가져오기(img)\n",
      "a 05. 리스트 정보 가져오기(ul,ol)\n",
      "a 10. 랭킹 정보 가져오기(웹 크롤링)\n"
     ]
    }
   ],
   "source": [
    "# 링크의 내용 안에 일부 내용을 가져오기\n",
    "\n",
    "sel_p_link = driver.find_elements_by_partial_link_text(\"가져오기\")\n",
    "\n",
    "for one in sel_p_link:\n",
    "    print(one.tag_name, one.text)"
   ]
  },
  {
   "cell_type": "code",
   "execution_count": 96,
   "id": "9ba1bba4",
   "metadata": {},
   "outputs": [
    {
     "name": "stdout",
     "output_type": "stream",
     "text": [
      "\n",
      "R 기본 전체(전 수업 링크)\n",
      "통계기본이해하기(1)\n",
      "가설검정이해(1)\n",
      "통계기본이해_실습(1)-통계가설검정\n",
      "통계기본이해_실습(1)-통계가설검정\n",
      "회귀분석이해(1)\n",
      "첫번째 모델 만들기\n",
      "회귀 모델 실습(1)-mtcars\n",
      "회귀 모델 실습(2)-Boston 집값 예측\n",
      "회귀 모델 실습(3) - 캐글 데이터-집값 예측\n",
      "로지스틱 회귀 모델 실습(1) - 인디언 암 예측\n",
      "의사결정트리 기본 이해(1)\n",
      "의사결정트리 실습(1)\n",
      "의사결정트리 실습(2)\n",
      "데이터 탐색 - Boston 집값\n",
      "텍스트 마이닝 시작하기\n",
      "KoNLP를 패키지를 활용한 텍스트 분석(1)\n",
      "텍스트 감정 분석(1)\n",
      "TFIDF 이해하기(1)\n",
      "R과 MySQL 연동 환경 만들기\n",
      "R과 MySQL 연동 실습하기\n",
      "데이터 시각화 기본(1)\n",
      "데이터 시각화 기본(2)\n",
      "데이터 시각화 기본(3)\n",
      "데이터 시각화 기본(4)\n",
      "데이터 시각화 활용(5)\n",
      "데이터 시각화 참고자료(1)\n",
      "데이터 시각화 참고자료(2)\n"
     ]
    }
   ],
   "source": [
    "# 링크의 컨텐츠 내용을 가져오기\n",
    "url = 'https://ldjwj.github.io/00_SBA01_BigData/05_HTML/idx_lec_list'\n",
    "driver.get(url)\n",
    "main_page_contents = driver.find_elements_by_class_name(\"row\")\n",
    "for content in main_page_contents:\n",
    "        print(content.find_elements_by_class_name(\"cell\")[2].text)"
   ]
  },
  {
   "cell_type": "code",
   "execution_count": 113,
   "id": "72301d4e",
   "metadata": {},
   "outputs": [
    {
     "name": "stdout",
     "output_type": "stream",
     "text": [
      "\n",
      "None\n",
      "R 기본 전체(전 수업 링크)\n",
      "None\n",
      "통계기본이해하기(1)\n",
      "None\n",
      "가설검정이해(1)\n",
      "None\n",
      "통계기본이해_실습(1)-통계가설검정\n",
      "None\n",
      "통계기본이해_실습(1)-통계가설검정\n",
      "None\n",
      "회귀분석이해(1)\n",
      "None\n",
      "첫번째 모델 만들기\n",
      "None\n",
      "회귀 모델 실습(1)-mtcars\n",
      "None\n",
      "회귀 모델 실습(2)-Boston 집값 예측\n",
      "None\n",
      "회귀 모델 실습(3) - 캐글 데이터-집값 예측\n",
      "None\n",
      "로지스틱 회귀 모델 실습(1) - 인디언 암 예측\n",
      "None\n",
      "의사결정트리 기본 이해(1)\n",
      "None\n",
      "의사결정트리 실습(1)\n",
      "None\n",
      "의사결정트리 실습(2)\n",
      "None\n",
      "데이터 탐색 - Boston 집값\n",
      "None\n",
      "텍스트 마이닝 시작하기\n",
      "None\n",
      "KoNLP를 패키지를 활용한 텍스트 분석(1)\n",
      "None\n",
      "텍스트 감정 분석(1)\n",
      "None\n",
      "TFIDF 이해하기(1)\n",
      "None\n",
      "R과 MySQL 연동 환경 만들기\n",
      "None\n",
      "R과 MySQL 연동 실습하기\n",
      "None\n",
      "데이터 시각화 기본(1)\n",
      "None\n",
      "데이터 시각화 기본(2)\n",
      "None\n",
      "데이터 시각화 기본(3)\n",
      "None\n",
      "데이터 시각화 기본(4)\n",
      "None\n",
      "데이터 시각화 활용(5)\n",
      "None\n",
      "데이터 시각화 참고자료(1)\n",
      "None\n",
      "데이터 시각화 참고자료(2)\n",
      "None\n"
     ]
    }
   ],
   "source": [
    "# content 내용과 link url을 가져와보자\n",
    "\n",
    "url = 'https://ldjwj.github.io/00_SBA01_BigData/05_HTML/idx_lec_list'\n",
    "driver.get(url)\n",
    "main_table = driver.find_elements_by_class_name(\"row\")\n",
    "for content in main_table:\n",
    "    cells = content.find_elements_by_class_name(\"cell\")\n",
    "    print(cells[2].text)\n",
    "    print(cells[3].get_attribute(\"href\"))\n"
   ]
  },
  {
   "cell_type": "code",
   "execution_count": 109,
   "id": "4e73b22d",
   "metadata": {},
   "outputs": [
    {
     "data": {
      "text/plain": [
       "<title>R lecture</title>"
      ]
     },
     "execution_count": 109,
     "metadata": {},
     "output_type": "execute_result"
    }
   ],
   "source": [
    "### Selenium 웹 페이지를 띄우고\n",
    "### 해당 웹의 HTML 소스를 얻어오기\n",
    "\n",
    "from bs4 import BeautifulSoup\n",
    "import sys\n",
    "import io\n",
    "page = driver.page_source # 셀레니움에서 담고 있는 웹사이트의 html 코드를 객체로 만들어서 page 변수로 선언\n",
    "soup = BeautifulSoup(page, 'lxml') # bs4로 기존 웹 크롤링하는 것과 동일하게 html 코드를 Soup 객체로 담기\n",
    "soup.title"
   ]
  },
  {
   "cell_type": "code",
   "execution_count": 114,
   "id": "707baa39",
   "metadata": {},
   "outputs": [],
   "source": [
    "import time\n",
    "\n",
    "url = 'https://pythonstart.github.io/web/'\n",
    "start = time.time()\n",
    "driver = webdriver.Chrome('./chromedriver_90')\n",
    "driver.get(url)"
   ]
  },
  {
   "cell_type": "code",
   "execution_count": 115,
   "id": "51d4cb11",
   "metadata": {},
   "outputs": [],
   "source": [
    "page = driver.page_source\n",
    "soup = BeautifulSoup(page, 'lxml')"
   ]
  },
  {
   "cell_type": "code",
   "execution_count": 118,
   "id": "9f664a43",
   "metadata": {},
   "outputs": [
    {
     "name": "stdout",
     "output_type": "stream",
     "text": [
      " 01. 제목 가져오기(title) \n",
      " 02. 텍스트 가져오기(p) \n",
      " 03. 링크 가져오기(a) \n",
      " 04. 이미지 정보 가져오기(img) \n",
      " 05. 리스트 정보 가져오기(ul,ol) \n",
      " 06. id를 활용한 정보 획득 \n",
      " 07. class를 활용한 정보 획득 \n",
      " 08. 하나의 이미지 다운로드 \n",
      " 09. 여러개의 이미지 다운로드 \n",
      " 10. 랭킹 정보 가져오기(웹 크롤링) \n"
     ]
    }
   ],
   "source": [
    "all_links = soup.find_all(\"a\")\n",
    "\n",
    "for link in all_links:\n",
    "    print(link.string)"
   ]
  },
  {
   "cell_type": "code",
   "execution_count": 120,
   "id": "33586246",
   "metadata": {},
   "outputs": [
    {
     "name": "stdout",
     "output_type": "stream",
     "text": [
      "https://pythonstart.github.io/web/01.html\n",
      "https://pythonstart.github.io/web/02.html\n",
      "https://pythonstart.github.io/web/03.html\n",
      "https://pythonstart.github.io/web/04.html\n",
      "https://pythonstart.github.io/web/05.html\n",
      "https://pythonstart.github.io/web/06.html\n",
      "https://pythonstart.github.io/web/07.html\n",
      "https://pythonstart.github.io/web/08.html\n",
      "https://pythonstart.github.io/web/09.html\n",
      "https://pythonstart.github.io/web/10.html\n"
     ]
    }
   ],
   "source": [
    "all_a = driver.find_elements_by_tag_name('a')\n",
    "\n",
    "for a in all_a:\n",
    "    print(a.get_attribute('href'))"
   ]
  },
  {
   "cell_type": "code",
   "execution_count": 144,
   "id": "ebba8dea",
   "metadata": {},
   "outputs": [],
   "source": []
  },
  {
   "cell_type": "code",
   "execution_count": 146,
   "id": "619ba4c0",
   "metadata": {},
   "outputs": [],
   "source": []
  },
  {
   "cell_type": "code",
   "execution_count": 148,
   "id": "062823ab",
   "metadata": {},
   "outputs": [
    {
     "name": "stdout",
     "output_type": "stream",
     "text": [
      "None\n"
     ]
    }
   ],
   "source": []
  },
  {
   "cell_type": "code",
   "execution_count": null,
   "id": "a4a8cdd4",
   "metadata": {},
   "outputs": [],
   "source": []
  }
 ],
 "metadata": {
  "kernelspec": {
   "display_name": "Python 3",
   "language": "python",
   "name": "python3"
  },
  "language_info": {
   "codemirror_mode": {
    "name": "ipython",
    "version": 3
   },
   "file_extension": ".py",
   "mimetype": "text/x-python",
   "name": "python",
   "nbconvert_exporter": "python",
   "pygments_lexer": "ipython3",
   "version": "3.8.5"
  }
 },
 "nbformat": 4,
 "nbformat_minor": 5
}
