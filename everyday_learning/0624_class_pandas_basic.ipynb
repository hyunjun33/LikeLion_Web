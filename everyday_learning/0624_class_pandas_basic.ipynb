{
 "cells": [
  {
   "cell_type": "markdown",
   "id": "ec178d23",
   "metadata": {},
   "source": [
    "### 판다스 학습"
   ]
  },
  {
   "cell_type": "code",
   "execution_count": 1,
   "id": "6112d33c",
   "metadata": {},
   "outputs": [],
   "source": [
    "import pandas as pd\n",
    "import numpy as np"
   ]
  },
  {
   "cell_type": "code",
   "execution_count": 2,
   "id": "8ce82c7f",
   "metadata": {},
   "outputs": [
    {
     "name": "stdout",
     "output_type": "stream",
     "text": [
      "0     1000\n",
      "1    14000\n",
      "2     3000\n",
      "3     3000\n",
      "4     1000\n",
      "dtype: int64 \n",
      "\n",
      "<class 'pandas.core.series.Series'>\n",
      "RangeIndex(start=0, stop=5, step=1)\n",
      "[0, 1, 2, 3, 4]\n",
      "[ 1000 14000  3000  3000  1000]\n",
      "int64\n"
     ]
    }
   ],
   "source": [
    "score = pd.Series([1000, 14000, 3000, 3000, 1000])\n",
    "\n",
    "print(score, '\\n')\n",
    "print(type(score))\n",
    "\n",
    "print(score.index)\n",
    "print(list(score.index))\n",
    "\n",
    "print(score.values)\n",
    "print(score.dtype)"
   ]
  },
  {
   "cell_type": "code",
   "execution_count": 3,
   "id": "862e98e6",
   "metadata": {},
   "outputs": [
    {
     "data": {
      "text/plain": [
       "pandas.core.series.Series"
      ]
     },
     "execution_count": 3,
     "metadata": {},
     "output_type": "execute_result"
    }
   ],
   "source": [
    "# Series 객체 만들기 (리스트 혹은 딕셔너리, 넘파이 배열을 활용 가능)\n",
    "\n",
    "weekly_plan = pd.Series(data=[\"matplotlib study\", \"pandas study\", \"numpy study\", \"titanic study\", \n",
    "                              \"team project\",\"rest\", \"play\"], index=[\"mon\", \"tue\", \"wed\", \"thu\", \"fri\", \"sat\", \"sun\"])\n",
    "type(weekly_plan)"
   ]
  },
  {
   "cell_type": "code",
   "execution_count": 4,
   "id": "14de65cb",
   "metadata": {},
   "outputs": [
    {
     "data": {
      "text/plain": [
       "['a', 'b', 'c']"
      ]
     },
     "execution_count": 4,
     "metadata": {},
     "output_type": "execute_result"
    }
   ],
   "source": [
    "test = dict({\"a\":1, \"b\":2, \"c\":3})\n",
    "test_series = pd.Series(test)\n",
    "list(test_series.index)"
   ]
  },
  {
   "cell_type": "code",
   "execution_count": 5,
   "id": "5f8b853a",
   "metadata": {},
   "outputs": [
    {
     "data": {
      "text/plain": [
       "mon    matplotlib study\n",
       "tue        pandas study\n",
       "dtype: object"
      ]
     },
     "execution_count": 5,
     "metadata": {},
     "output_type": "execute_result"
    }
   ],
   "source": [
    "# 인덱싱과 슬라이싱이 가능하다\n",
    "\n",
    "weekly_plan[0]\n",
    "weekly_plan[0][-5:]\n",
    "weekly_plan[0:2]"
   ]
  },
  {
   "cell_type": "code",
   "execution_count": 6,
   "id": "228e8b5f",
   "metadata": {},
   "outputs": [
    {
     "data": {
      "text/html": [
       "<div>\n",
       "<style scoped>\n",
       "    .dataframe tbody tr th:only-of-type {\n",
       "        vertical-align: middle;\n",
       "    }\n",
       "\n",
       "    .dataframe tbody tr th {\n",
       "        vertical-align: top;\n",
       "    }\n",
       "\n",
       "    .dataframe thead th {\n",
       "        text-align: right;\n",
       "    }\n",
       "</style>\n",
       "<table border=\"1\" class=\"dataframe\">\n",
       "  <thead>\n",
       "    <tr style=\"text-align: right;\">\n",
       "      <th></th>\n",
       "      <th>col1</th>\n",
       "      <th>col2</th>\n",
       "      <th>col3</th>\n",
       "    </tr>\n",
       "  </thead>\n",
       "  <tbody>\n",
       "    <tr>\n",
       "      <th>0</th>\n",
       "      <td>1</td>\n",
       "      <td>10</td>\n",
       "      <td>A</td>\n",
       "    </tr>\n",
       "    <tr>\n",
       "      <th>1</th>\n",
       "      <td>2</td>\n",
       "      <td>20</td>\n",
       "      <td>B</td>\n",
       "    </tr>\n",
       "    <tr>\n",
       "      <th>2</th>\n",
       "      <td>3</td>\n",
       "      <td>30</td>\n",
       "      <td>C</td>\n",
       "    </tr>\n",
       "    <tr>\n",
       "      <th>3</th>\n",
       "      <td>4</td>\n",
       "      <td>40</td>\n",
       "      <td>D</td>\n",
       "    </tr>\n",
       "  </tbody>\n",
       "</table>\n",
       "</div>"
      ],
      "text/plain": [
       "   col1  col2 col3\n",
       "0     1    10    A\n",
       "1     2    20    B\n",
       "2     3    30    C\n",
       "3     4    40    D"
      ]
     },
     "execution_count": 6,
     "metadata": {},
     "output_type": "execute_result"
    }
   ],
   "source": [
    "# DataFrame 객체 만들기 (딕셔너리를 활용하거나 넘파이 다차원 배열을 활용 가능)\n",
    "\n",
    "dat = {'col1' : [1, 2, 3, 4],\n",
    "       'col2' : [10, 20, 30, 40],\n",
    "       'col3' : ['A', 'B', 'C', 'D']}\n",
    "\n",
    "df = pd.DataFrame(dat)\n",
    "df"
   ]
  },
  {
   "cell_type": "code",
   "execution_count": 7,
   "id": "87eb3618",
   "metadata": {},
   "outputs": [
    {
     "data": {
      "text/plain": [
       "DatetimeIndex(['2021-06-21', '2021-06-22', '2021-06-23', '2021-06-24',\n",
       "               '2021-06-25'],\n",
       "              dtype='datetime64[ns]', freq='D')"
      ]
     },
     "execution_count": 7,
     "metadata": {},
     "output_type": "execute_result"
    }
   ],
   "source": [
    "idx = pd.date_range(start=\"2021-06-21\", end=\"2021-06-25\")\n",
    "idx"
   ]
  },
  {
   "cell_type": "code",
   "execution_count": 8,
   "id": "43c7e06c",
   "metadata": {},
   "outputs": [
    {
     "data": {
      "text/plain": [
       "array(['matplotlib study', 'pandas study', 'numpy study', 'titanic study',\n",
       "       'team project', 'rest', 'play'], dtype=object)"
      ]
     },
     "execution_count": 8,
     "metadata": {},
     "output_type": "execute_result"
    }
   ],
   "source": [
    "weekly_plan.values"
   ]
  },
  {
   "cell_type": "code",
   "execution_count": 9,
   "id": "fab899ec",
   "metadata": {},
   "outputs": [
    {
     "data": {
      "text/plain": [
       "Index(['mon', 'tue', 'wed', 'thu', 'fri', 'sat', 'sun'], dtype='object')"
      ]
     },
     "execution_count": 9,
     "metadata": {},
     "output_type": "execute_result"
    }
   ],
   "source": [
    "weekly_plan.index"
   ]
  },
  {
   "cell_type": "code",
   "execution_count": 10,
   "id": "8daed669",
   "metadata": {},
   "outputs": [
    {
     "name": "stdout",
     "output_type": "stream",
     "text": [
      "col1     1\n",
      "col2    10\n",
      "col3     A\n",
      "Name: 0, dtype: object\n",
      "col1     1\n",
      "col2    10\n",
      "col3     A\n",
      "Name: 0, dtype: object\n",
      "   col1  col2 col3\n",
      "0     1    10    A\n",
      "1     2    20    B\n",
      "   col1  col2 col3\n",
      "0     1    10    A\n",
      "1     2    20    B\n",
      "2     3    30    C\n"
     ]
    }
   ],
   "source": [
    "# df의 개별 행을 선택하는 방법\n",
    "\n",
    "print(df.iloc[0])\n",
    "print(df.loc[0])\n",
    "\n",
    "print(df.iloc[0:2])\n",
    "print(df.loc[0:2])"
   ]
  },
  {
   "cell_type": "code",
   "execution_count": 11,
   "id": "eb605bbf",
   "metadata": {},
   "outputs": [
    {
     "name": "stdout",
     "output_type": "stream",
     "text": [
      "0    1\n",
      "1    2\n",
      "2    3\n",
      "3    4\n",
      "Name: col1, dtype: int64\n",
      "   col1  col2\n",
      "0     1    10\n",
      "1     2    20\n",
      "2     3    30\n",
      "3     4    40\n"
     ]
    }
   ],
   "source": [
    "# df의 열을 선택하는 방법\n",
    "\n",
    "print(df[\"col1\"])\n",
    "\n",
    "print(df[[\"col1\", \"col2\"]])"
   ]
  },
  {
   "cell_type": "code",
   "execution_count": 12,
   "id": "72aac8be",
   "metadata": {},
   "outputs": [
    {
     "data": {
      "text/plain": [
       "1"
      ]
     },
     "execution_count": 12,
     "metadata": {},
     "output_type": "execute_result"
    }
   ],
   "source": [
    "df.loc[0, 'col1'] # 0행, col1 열의 값만 가져오기 (loc는 값을 지정)"
   ]
  },
  {
   "cell_type": "code",
   "execution_count": 13,
   "id": "14e7b2aa",
   "metadata": {},
   "outputs": [
    {
     "data": {
      "text/plain": [
       "10"
      ]
     },
     "execution_count": 13,
     "metadata": {},
     "output_type": "execute_result"
    }
   ],
   "source": [
    "df.iloc[0, 1] # 0행 1열의 값만 가져오기 (iloc는 인덱스 값을 지정)"
   ]
  },
  {
   "cell_type": "code",
   "execution_count": 14,
   "id": "dcdea255",
   "metadata": {},
   "outputs": [
    {
     "data": {
      "text/plain": [
       "0    10\n",
       "1    20\n",
       "2    30\n",
       "3    40\n",
       "Name: col2, dtype: int64"
      ]
     },
     "execution_count": 14,
     "metadata": {},
     "output_type": "execute_result"
    }
   ],
   "source": [
    "df.loc[:, 'col2']"
   ]
  },
  {
   "cell_type": "code",
   "execution_count": 15,
   "id": "397c171d",
   "metadata": {},
   "outputs": [
    {
     "data": {
      "text/plain": [
       "0    1\n",
       "1    2\n",
       "2    3\n",
       "3    4\n",
       "Name: col1, dtype: int64"
      ]
     },
     "execution_count": 15,
     "metadata": {},
     "output_type": "execute_result"
    }
   ],
   "source": [
    "df.iloc[:, 0]"
   ]
  },
  {
   "cell_type": "code",
   "execution_count": 16,
   "id": "06d851e8",
   "metadata": {},
   "outputs": [
    {
     "data": {
      "text/html": [
       "<div>\n",
       "<style scoped>\n",
       "    .dataframe tbody tr th:only-of-type {\n",
       "        vertical-align: middle;\n",
       "    }\n",
       "\n",
       "    .dataframe tbody tr th {\n",
       "        vertical-align: top;\n",
       "    }\n",
       "\n",
       "    .dataframe thead th {\n",
       "        text-align: right;\n",
       "    }\n",
       "</style>\n",
       "<table border=\"1\" class=\"dataframe\">\n",
       "  <thead>\n",
       "    <tr style=\"text-align: right;\">\n",
       "      <th></th>\n",
       "      <th>toto</th>\n",
       "      <th>apple</th>\n",
       "      <th>gildong</th>\n",
       "      <th>catanddog</th>\n",
       "    </tr>\n",
       "  </thead>\n",
       "  <tbody>\n",
       "    <tr>\n",
       "      <th>2021-06-21</th>\n",
       "      <td>1500</td>\n",
       "      <td>4000</td>\n",
       "      <td>2000</td>\n",
       "      <td>7000</td>\n",
       "    </tr>\n",
       "    <tr>\n",
       "      <th>2021-06-22</th>\n",
       "      <td>3000</td>\n",
       "      <td>5000</td>\n",
       "      <td>2500</td>\n",
       "      <td>5000</td>\n",
       "    </tr>\n",
       "    <tr>\n",
       "      <th>2021-06-23</th>\n",
       "      <td>5000</td>\n",
       "      <td>6000</td>\n",
       "      <td>3000</td>\n",
       "      <td>3000</td>\n",
       "    </tr>\n",
       "    <tr>\n",
       "      <th>2021-06-24</th>\n",
       "      <td>7000</td>\n",
       "      <td>5500</td>\n",
       "      <td>4000</td>\n",
       "      <td>5000</td>\n",
       "    </tr>\n",
       "    <tr>\n",
       "      <th>2021-06-25</th>\n",
       "      <td>5500</td>\n",
       "      <td>4500</td>\n",
       "      <td>3000</td>\n",
       "      <td>4000</td>\n",
       "    </tr>\n",
       "  </tbody>\n",
       "</table>\n",
       "</div>"
      ],
      "text/plain": [
       "            toto  apple  gildong  catanddog\n",
       "2021-06-21  1500   4000     2000       7000\n",
       "2021-06-22  3000   5000     2500       5000\n",
       "2021-06-23  5000   6000     3000       3000\n",
       "2021-06-24  7000   5500     4000       5000\n",
       "2021-06-25  5500   4500     3000       4000"
      ]
     },
     "execution_count": 16,
     "metadata": {},
     "output_type": "execute_result"
    }
   ],
   "source": [
    "idx = pd.date_range(start=\"2021-06-21\", end=\"2021-06-25\")\n",
    "team_score = { \"toto\":[1500,3000,5000,7000,5500],\n",
    "              \"apple\":[4000,5000,6000,5500,4500],\n",
    "              \"gildong\":[2000,2500,3000,4000,3000],\n",
    "              \"catanddog\":[7000,5000,3000,5000,4000]}\n",
    "team_df = pd.DataFrame(team_score, index=idx)\n",
    "team_df"
   ]
  },
  {
   "cell_type": "code",
   "execution_count": 17,
   "id": "a98d764f",
   "metadata": {},
   "outputs": [
    {
     "name": "stdout",
     "output_type": "stream",
     "text": [
      "<class 'pandas.core.series.Series'>\n"
     ]
    },
    {
     "data": {
      "text/plain": [
       "2021-06-21    1500\n",
       "2021-06-22    3000\n",
       "2021-06-23    5000\n",
       "2021-06-24    7000\n",
       "2021-06-25    5500\n",
       "Freq: D, Name: toto, dtype: int64"
      ]
     },
     "execution_count": 17,
     "metadata": {},
     "output_type": "execute_result"
    }
   ],
   "source": [
    "print(type(team_df.loc[:, \"toto\"]))\n",
    "team_df.loc[:, \"toto\"]"
   ]
  },
  {
   "cell_type": "code",
   "execution_count": 18,
   "id": "2a716999",
   "metadata": {},
   "outputs": [
    {
     "data": {
      "text/html": [
       "<div>\n",
       "<style scoped>\n",
       "    .dataframe tbody tr th:only-of-type {\n",
       "        vertical-align: middle;\n",
       "    }\n",
       "\n",
       "    .dataframe tbody tr th {\n",
       "        vertical-align: top;\n",
       "    }\n",
       "\n",
       "    .dataframe thead th {\n",
       "        text-align: right;\n",
       "    }\n",
       "</style>\n",
       "<table border=\"1\" class=\"dataframe\">\n",
       "  <thead>\n",
       "    <tr style=\"text-align: right;\">\n",
       "      <th></th>\n",
       "      <th>toto</th>\n",
       "      <th>apple</th>\n",
       "    </tr>\n",
       "  </thead>\n",
       "  <tbody>\n",
       "    <tr>\n",
       "      <th>2021-06-21</th>\n",
       "      <td>1500</td>\n",
       "      <td>4000</td>\n",
       "    </tr>\n",
       "    <tr>\n",
       "      <th>2021-06-22</th>\n",
       "      <td>3000</td>\n",
       "      <td>5000</td>\n",
       "    </tr>\n",
       "    <tr>\n",
       "      <th>2021-06-23</th>\n",
       "      <td>5000</td>\n",
       "      <td>6000</td>\n",
       "    </tr>\n",
       "    <tr>\n",
       "      <th>2021-06-24</th>\n",
       "      <td>7000</td>\n",
       "      <td>5500</td>\n",
       "    </tr>\n",
       "    <tr>\n",
       "      <th>2021-06-25</th>\n",
       "      <td>5500</td>\n",
       "      <td>4500</td>\n",
       "    </tr>\n",
       "  </tbody>\n",
       "</table>\n",
       "</div>"
      ],
      "text/plain": [
       "            toto  apple\n",
       "2021-06-21  1500   4000\n",
       "2021-06-22  3000   5000\n",
       "2021-06-23  5000   6000\n",
       "2021-06-24  7000   5500\n",
       "2021-06-25  5500   4500"
      ]
     },
     "execution_count": 18,
     "metadata": {},
     "output_type": "execute_result"
    }
   ],
   "source": [
    "type(team_df.loc[:, \"toto\":\"apple\"])\n",
    "team_df.loc[:, \"toto\":\"apple\"]"
   ]
  },
  {
   "cell_type": "code",
   "execution_count": 19,
   "id": "71d1478c",
   "metadata": {},
   "outputs": [
    {
     "name": "stdout",
     "output_type": "stream",
     "text": [
      "toto         1500\n",
      "apple        4000\n",
      "gildong      2000\n",
      "catanddog    7000\n",
      "Name: 2021-06-21 00:00:00, dtype: int64\n",
      "toto         1500\n",
      "apple        4000\n",
      "gildong      2000\n",
      "catanddog    7000\n",
      "Name: 2021-06-21 00:00:00, dtype: int64\n",
      "            toto  apple  gildong  catanddog\n",
      "2021-06-21  1500   4000     2000       7000\n",
      "2021-06-22  3000   5000     2500       5000\n",
      "2021-06-23  5000   6000     3000       3000\n",
      "2021-06-24  7000   5500     4000       5000\n",
      "            toto  apple  gildong  catanddog\n",
      "2021-06-21  1500   4000     2000       7000\n",
      "2021-06-22  3000   5000     2500       5000\n",
      "2021-06-23  5000   6000     3000       3000\n",
      "2021-06-21    1500\n",
      "2021-06-22    3000\n",
      "2021-06-23    5000\n",
      "2021-06-24    7000\n",
      "2021-06-25    5500\n",
      "Freq: D, Name: toto, dtype: int64\n",
      "2021-06-21    1500\n",
      "2021-06-22    3000\n",
      "2021-06-23    5000\n",
      "2021-06-24    7000\n",
      "2021-06-25    5500\n",
      "Freq: D, Name: toto, dtype: int64\n",
      "            toto  apple  gildong  catanddog\n",
      "2021-06-21  1500   4000     2000       7000\n",
      "2021-06-22  3000   5000     2500       5000\n",
      "2021-06-23  5000   6000     3000       3000\n",
      "2021-06-24  7000   5500     4000       5000\n",
      "2021-06-25  5500   4500     3000       4000\n",
      "            toto  apple  gildong  catanddog\n",
      "2021-06-21  1500   4000     2000       7000\n",
      "2021-06-22  3000   5000     2500       5000\n",
      "2021-06-23  5000   6000     3000       3000\n",
      "2021-06-24  7000   5500     4000       5000\n",
      "2021-06-25  5500   4500     3000       4000\n"
     ]
    }
   ],
   "source": [
    "# 1행 가져오기\n",
    "\n",
    "print(team_df.loc['2021-06-21'])\n",
    "print(team_df.iloc[0])\n",
    "\n",
    "# 여러행 가져오기\n",
    "\n",
    "print(team_df.loc['2021-06-21':'2021-06-24'])\n",
    "print(team_df.iloc[0:3])\n",
    "\n",
    "# 1열 가져오기\n",
    "\n",
    "print(team_df.loc[: ,\"toto\"])\n",
    "print(team_df.iloc[:, 0])\n",
    "\n",
    "# 여러열 가져오기\n",
    "\n",
    "print(team_df.loc[:, \"toto\":\"catanddog\"])\n",
    "print(team_df.iloc[:, 0:])"
   ]
  },
  {
   "cell_type": "code",
   "execution_count": 20,
   "id": "355b7801",
   "metadata": {},
   "outputs": [
    {
     "name": "stdout",
     "output_type": "stream",
     "text": [
      "toto         22000\n",
      "apple        25000\n",
      "gildong      14500\n",
      "catanddog    24000\n",
      "dtype: int64\n",
      "2021-06-21    14500\n",
      "2021-06-22    15500\n",
      "2021-06-23    17000\n",
      "2021-06-24    21500\n",
      "2021-06-25    17000\n",
      "Freq: D, dtype: int64\n"
     ]
    }
   ],
   "source": [
    "# df의 기초 통계정보\n",
    "\n",
    "print(team_df.sum(axis=0)) # 행 별 값을 더해서 결과값을 보여준다 -> 결과값은 열 마다 하나씩 나온다\n",
    "print(team_df.sum(axis=1)) # 열 별 값을 더해서 결과값을 보여준다 -> 결과값은 행 마다 하나씩 나온다"
   ]
  },
  {
   "cell_type": "code",
   "execution_count": 21,
   "id": "b0f4c1cd",
   "metadata": {},
   "outputs": [
    {
     "data": {
      "text/html": [
       "<div>\n",
       "<style scoped>\n",
       "    .dataframe tbody tr th:only-of-type {\n",
       "        vertical-align: middle;\n",
       "    }\n",
       "\n",
       "    .dataframe tbody tr th {\n",
       "        vertical-align: top;\n",
       "    }\n",
       "\n",
       "    .dataframe thead th {\n",
       "        text-align: right;\n",
       "    }\n",
       "</style>\n",
       "<table border=\"1\" class=\"dataframe\">\n",
       "  <thead>\n",
       "    <tr style=\"text-align: right;\">\n",
       "      <th></th>\n",
       "      <th>toto</th>\n",
       "      <th>apple</th>\n",
       "      <th>gildong</th>\n",
       "      <th>catanddog</th>\n",
       "    </tr>\n",
       "  </thead>\n",
       "  <tbody>\n",
       "    <tr>\n",
       "      <th>2021-06-21</th>\n",
       "      <td>1500</td>\n",
       "      <td>4000</td>\n",
       "      <td>2000</td>\n",
       "      <td>7000</td>\n",
       "    </tr>\n",
       "    <tr>\n",
       "      <th>2021-06-22</th>\n",
       "      <td>3000</td>\n",
       "      <td>5000</td>\n",
       "      <td>2500</td>\n",
       "      <td>5000</td>\n",
       "    </tr>\n",
       "    <tr>\n",
       "      <th>2021-06-23</th>\n",
       "      <td>5000</td>\n",
       "      <td>6000</td>\n",
       "      <td>3000</td>\n",
       "      <td>3000</td>\n",
       "    </tr>\n",
       "    <tr>\n",
       "      <th>2021-06-24</th>\n",
       "      <td>7000</td>\n",
       "      <td>5500</td>\n",
       "      <td>4000</td>\n",
       "      <td>5000</td>\n",
       "    </tr>\n",
       "    <tr>\n",
       "      <th>2021-06-25</th>\n",
       "      <td>5500</td>\n",
       "      <td>4500</td>\n",
       "      <td>3000</td>\n",
       "      <td>4000</td>\n",
       "    </tr>\n",
       "  </tbody>\n",
       "</table>\n",
       "</div>"
      ],
      "text/plain": [
       "            toto  apple  gildong  catanddog\n",
       "2021-06-21  1500   4000     2000       7000\n",
       "2021-06-22  3000   5000     2500       5000\n",
       "2021-06-23  5000   6000     3000       3000\n",
       "2021-06-24  7000   5500     4000       5000\n",
       "2021-06-25  5500   4500     3000       4000"
      ]
     },
     "execution_count": 21,
     "metadata": {},
     "output_type": "execute_result"
    }
   ],
   "source": [
    "team_df"
   ]
  },
  {
   "cell_type": "code",
   "execution_count": 22,
   "id": "d797acc1",
   "metadata": {},
   "outputs": [
    {
     "name": "stdout",
     "output_type": "stream",
     "text": [
      "toto         4400.0\n",
      "apple        5000.0\n",
      "gildong      2900.0\n",
      "catanddog    4800.0\n",
      "dtype: float64\n",
      "2021-06-21    3625.0\n",
      "2021-06-22    3875.0\n",
      "2021-06-23    4250.0\n",
      "2021-06-24    5375.0\n",
      "2021-06-25    4250.0\n",
      "Freq: D, dtype: float64\n"
     ]
    }
   ],
   "source": [
    "print(team_df.mean(axis=0)) # 행 별 값들의 평균을 계산한다 -> 결과값은 열 마다 하나씩 나온다\n",
    "print(team_df.mean(axis=1)) # 열 별 값들의 평균을 계산한다 -> 결과값은 행 마다 하나씩 나온다"
   ]
  },
  {
   "cell_type": "code",
   "execution_count": 23,
   "id": "a4f83536",
   "metadata": {},
   "outputs": [
    {
     "data": {
      "text/html": [
       "<div>\n",
       "<style scoped>\n",
       "    .dataframe tbody tr th:only-of-type {\n",
       "        vertical-align: middle;\n",
       "    }\n",
       "\n",
       "    .dataframe tbody tr th {\n",
       "        vertical-align: top;\n",
       "    }\n",
       "\n",
       "    .dataframe thead th {\n",
       "        text-align: right;\n",
       "    }\n",
       "</style>\n",
       "<table border=\"1\" class=\"dataframe\">\n",
       "  <thead>\n",
       "    <tr style=\"text-align: right;\">\n",
       "      <th></th>\n",
       "      <th>toto</th>\n",
       "      <th>apple</th>\n",
       "      <th>gildong</th>\n",
       "      <th>catanddog</th>\n",
       "    </tr>\n",
       "  </thead>\n",
       "  <tbody>\n",
       "    <tr>\n",
       "      <th>count</th>\n",
       "      <td>5.000000</td>\n",
       "      <td>5.000000</td>\n",
       "      <td>5.000000</td>\n",
       "      <td>5.000000</td>\n",
       "    </tr>\n",
       "    <tr>\n",
       "      <th>mean</th>\n",
       "      <td>4400.000000</td>\n",
       "      <td>5000.000000</td>\n",
       "      <td>2900.000000</td>\n",
       "      <td>4800.000000</td>\n",
       "    </tr>\n",
       "    <tr>\n",
       "      <th>std</th>\n",
       "      <td>2162.174831</td>\n",
       "      <td>790.569415</td>\n",
       "      <td>741.619849</td>\n",
       "      <td>1483.239697</td>\n",
       "    </tr>\n",
       "    <tr>\n",
       "      <th>min</th>\n",
       "      <td>1500.000000</td>\n",
       "      <td>4000.000000</td>\n",
       "      <td>2000.000000</td>\n",
       "      <td>3000.000000</td>\n",
       "    </tr>\n",
       "    <tr>\n",
       "      <th>25%</th>\n",
       "      <td>3000.000000</td>\n",
       "      <td>4500.000000</td>\n",
       "      <td>2500.000000</td>\n",
       "      <td>4000.000000</td>\n",
       "    </tr>\n",
       "    <tr>\n",
       "      <th>50%</th>\n",
       "      <td>5000.000000</td>\n",
       "      <td>5000.000000</td>\n",
       "      <td>3000.000000</td>\n",
       "      <td>5000.000000</td>\n",
       "    </tr>\n",
       "    <tr>\n",
       "      <th>75%</th>\n",
       "      <td>5500.000000</td>\n",
       "      <td>5500.000000</td>\n",
       "      <td>3000.000000</td>\n",
       "      <td>5000.000000</td>\n",
       "    </tr>\n",
       "    <tr>\n",
       "      <th>max</th>\n",
       "      <td>7000.000000</td>\n",
       "      <td>6000.000000</td>\n",
       "      <td>4000.000000</td>\n",
       "      <td>7000.000000</td>\n",
       "    </tr>\n",
       "  </tbody>\n",
       "</table>\n",
       "</div>"
      ],
      "text/plain": [
       "              toto        apple      gildong    catanddog\n",
       "count     5.000000     5.000000     5.000000     5.000000\n",
       "mean   4400.000000  5000.000000  2900.000000  4800.000000\n",
       "std    2162.174831   790.569415   741.619849  1483.239697\n",
       "min    1500.000000  4000.000000  2000.000000  3000.000000\n",
       "25%    3000.000000  4500.000000  2500.000000  4000.000000\n",
       "50%    5000.000000  5000.000000  3000.000000  5000.000000\n",
       "75%    5500.000000  5500.000000  3000.000000  5000.000000\n",
       "max    7000.000000  6000.000000  4000.000000  7000.000000"
      ]
     },
     "execution_count": 23,
     "metadata": {},
     "output_type": "execute_result"
    }
   ],
   "source": [
    "team_df.describe()"
   ]
  },
  {
   "cell_type": "code",
   "execution_count": 24,
   "id": "7a223af9",
   "metadata": {},
   "outputs": [
    {
     "data": {
      "text/html": [
       "<div>\n",
       "<style scoped>\n",
       "    .dataframe tbody tr th:only-of-type {\n",
       "        vertical-align: middle;\n",
       "    }\n",
       "\n",
       "    .dataframe tbody tr th {\n",
       "        vertical-align: top;\n",
       "    }\n",
       "\n",
       "    .dataframe thead th {\n",
       "        text-align: right;\n",
       "    }\n",
       "</style>\n",
       "<table border=\"1\" class=\"dataframe\">\n",
       "  <thead>\n",
       "    <tr style=\"text-align: right;\">\n",
       "      <th></th>\n",
       "      <th>toto</th>\n",
       "      <th>apple</th>\n",
       "      <th>gildong</th>\n",
       "      <th>catanddog</th>\n",
       "    </tr>\n",
       "  </thead>\n",
       "  <tbody>\n",
       "    <tr>\n",
       "      <th>2021-06-21</th>\n",
       "      <td>1500</td>\n",
       "      <td>4000</td>\n",
       "      <td>2000</td>\n",
       "      <td>7000</td>\n",
       "    </tr>\n",
       "    <tr>\n",
       "      <th>2021-06-22</th>\n",
       "      <td>4500</td>\n",
       "      <td>9000</td>\n",
       "      <td>4500</td>\n",
       "      <td>12000</td>\n",
       "    </tr>\n",
       "    <tr>\n",
       "      <th>2021-06-23</th>\n",
       "      <td>9500</td>\n",
       "      <td>15000</td>\n",
       "      <td>7500</td>\n",
       "      <td>15000</td>\n",
       "    </tr>\n",
       "    <tr>\n",
       "      <th>2021-06-24</th>\n",
       "      <td>16500</td>\n",
       "      <td>20500</td>\n",
       "      <td>11500</td>\n",
       "      <td>20000</td>\n",
       "    </tr>\n",
       "    <tr>\n",
       "      <th>2021-06-25</th>\n",
       "      <td>22000</td>\n",
       "      <td>25000</td>\n",
       "      <td>14500</td>\n",
       "      <td>24000</td>\n",
       "    </tr>\n",
       "  </tbody>\n",
       "</table>\n",
       "</div>"
      ],
      "text/plain": [
       "             toto  apple  gildong  catanddog\n",
       "2021-06-21   1500   4000     2000       7000\n",
       "2021-06-22   4500   9000     4500      12000\n",
       "2021-06-23   9500  15000     7500      15000\n",
       "2021-06-24  16500  20500    11500      20000\n",
       "2021-06-25  22000  25000    14500      24000"
      ]
     },
     "execution_count": 24,
     "metadata": {},
     "output_type": "execute_result"
    }
   ],
   "source": [
    "team_df.cumsum()"
   ]
  },
  {
   "cell_type": "code",
   "execution_count": 25,
   "id": "fe1511fa",
   "metadata": {},
   "outputs": [
    {
     "data": {
      "text/html": [
       "<div>\n",
       "<style scoped>\n",
       "    .dataframe tbody tr th:only-of-type {\n",
       "        vertical-align: middle;\n",
       "    }\n",
       "\n",
       "    .dataframe tbody tr th {\n",
       "        vertical-align: top;\n",
       "    }\n",
       "\n",
       "    .dataframe thead th {\n",
       "        text-align: right;\n",
       "    }\n",
       "</style>\n",
       "<table border=\"1\" class=\"dataframe\">\n",
       "  <thead>\n",
       "    <tr style=\"text-align: right;\">\n",
       "      <th></th>\n",
       "      <th>toto</th>\n",
       "      <th>apple</th>\n",
       "      <th>gildong</th>\n",
       "      <th>catanddog</th>\n",
       "      <th>row_sum</th>\n",
       "    </tr>\n",
       "  </thead>\n",
       "  <tbody>\n",
       "    <tr>\n",
       "      <th>2021-06-21</th>\n",
       "      <td>1500</td>\n",
       "      <td>4000</td>\n",
       "      <td>2000</td>\n",
       "      <td>7000</td>\n",
       "      <td>14500</td>\n",
       "    </tr>\n",
       "    <tr>\n",
       "      <th>2021-06-22</th>\n",
       "      <td>3000</td>\n",
       "      <td>5000</td>\n",
       "      <td>2500</td>\n",
       "      <td>5000</td>\n",
       "      <td>15500</td>\n",
       "    </tr>\n",
       "    <tr>\n",
       "      <th>2021-06-23</th>\n",
       "      <td>5000</td>\n",
       "      <td>6000</td>\n",
       "      <td>3000</td>\n",
       "      <td>3000</td>\n",
       "      <td>17000</td>\n",
       "    </tr>\n",
       "    <tr>\n",
       "      <th>2021-06-24</th>\n",
       "      <td>7000</td>\n",
       "      <td>5500</td>\n",
       "      <td>4000</td>\n",
       "      <td>5000</td>\n",
       "      <td>21500</td>\n",
       "    </tr>\n",
       "    <tr>\n",
       "      <th>2021-06-25</th>\n",
       "      <td>5500</td>\n",
       "      <td>4500</td>\n",
       "      <td>3000</td>\n",
       "      <td>4000</td>\n",
       "      <td>17000</td>\n",
       "    </tr>\n",
       "  </tbody>\n",
       "</table>\n",
       "</div>"
      ],
      "text/plain": [
       "            toto  apple  gildong  catanddog  row_sum\n",
       "2021-06-21  1500   4000     2000       7000    14500\n",
       "2021-06-22  3000   5000     2500       5000    15500\n",
       "2021-06-23  5000   6000     3000       3000    17000\n",
       "2021-06-24  7000   5500     4000       5000    21500\n",
       "2021-06-25  5500   4500     3000       4000    17000"
      ]
     },
     "execution_count": 25,
     "metadata": {},
     "output_type": "execute_result"
    }
   ],
   "source": [
    "team_df['row_sum'] = team_df.sum(axis=1) # 각 열의 값을 더해서 나온 결과값을 row_sum 열에 저장\n",
    "team_df"
   ]
  },
  {
   "cell_type": "code",
   "execution_count": 26,
   "id": "f24d0ce8",
   "metadata": {},
   "outputs": [
    {
     "data": {
      "text/html": [
       "<div>\n",
       "<style scoped>\n",
       "    .dataframe tbody tr th:only-of-type {\n",
       "        vertical-align: middle;\n",
       "    }\n",
       "\n",
       "    .dataframe tbody tr th {\n",
       "        vertical-align: top;\n",
       "    }\n",
       "\n",
       "    .dataframe thead th {\n",
       "        text-align: right;\n",
       "    }\n",
       "</style>\n",
       "<table border=\"1\" class=\"dataframe\">\n",
       "  <thead>\n",
       "    <tr style=\"text-align: right;\">\n",
       "      <th></th>\n",
       "      <th>toto</th>\n",
       "      <th>apple</th>\n",
       "      <th>gildong</th>\n",
       "      <th>catanddog</th>\n",
       "      <th>row_sum</th>\n",
       "    </tr>\n",
       "  </thead>\n",
       "  <tbody>\n",
       "    <tr>\n",
       "      <th>2021-06-21 00:00:00</th>\n",
       "      <td>1500</td>\n",
       "      <td>4000</td>\n",
       "      <td>2000</td>\n",
       "      <td>7000</td>\n",
       "      <td>14500</td>\n",
       "    </tr>\n",
       "    <tr>\n",
       "      <th>2021-06-22 00:00:00</th>\n",
       "      <td>3000</td>\n",
       "      <td>5000</td>\n",
       "      <td>2500</td>\n",
       "      <td>5000</td>\n",
       "      <td>15500</td>\n",
       "    </tr>\n",
       "    <tr>\n",
       "      <th>2021-06-23 00:00:00</th>\n",
       "      <td>5000</td>\n",
       "      <td>6000</td>\n",
       "      <td>3000</td>\n",
       "      <td>3000</td>\n",
       "      <td>17000</td>\n",
       "    </tr>\n",
       "    <tr>\n",
       "      <th>2021-06-24 00:00:00</th>\n",
       "      <td>7000</td>\n",
       "      <td>5500</td>\n",
       "      <td>4000</td>\n",
       "      <td>5000</td>\n",
       "      <td>21500</td>\n",
       "    </tr>\n",
       "    <tr>\n",
       "      <th>2021-06-25 00:00:00</th>\n",
       "      <td>5500</td>\n",
       "      <td>4500</td>\n",
       "      <td>3000</td>\n",
       "      <td>4000</td>\n",
       "      <td>17000</td>\n",
       "    </tr>\n",
       "    <tr>\n",
       "      <th>column_sum</th>\n",
       "      <td>22000</td>\n",
       "      <td>25000</td>\n",
       "      <td>14500</td>\n",
       "      <td>24000</td>\n",
       "      <td>85500</td>\n",
       "    </tr>\n",
       "  </tbody>\n",
       "</table>\n",
       "</div>"
      ],
      "text/plain": [
       "                      toto  apple  gildong  catanddog  row_sum\n",
       "2021-06-21 00:00:00   1500   4000     2000       7000    14500\n",
       "2021-06-22 00:00:00   3000   5000     2500       5000    15500\n",
       "2021-06-23 00:00:00   5000   6000     3000       3000    17000\n",
       "2021-06-24 00:00:00   7000   5500     4000       5000    21500\n",
       "2021-06-25 00:00:00   5500   4500     3000       4000    17000\n",
       "column_sum           22000  25000    14500      24000    85500"
      ]
     },
     "execution_count": 26,
     "metadata": {},
     "output_type": "execute_result"
    }
   ],
   "source": [
    "team_df.loc['column_sum'] = team_df.sum(axis=0) # 각 행의 값을 더해서 나온 결과값을 column_sum 행에 저장\n",
    "team_df"
   ]
  },
  {
   "cell_type": "code",
   "execution_count": 27,
   "id": "f0d12dc2",
   "metadata": {},
   "outputs": [
    {
     "data": {
      "text/plain": [
       "column_sum             85500\n",
       "2021-06-24 00:00:00    21500\n",
       "2021-06-23 00:00:00    17000\n",
       "2021-06-25 00:00:00    17000\n",
       "2021-06-22 00:00:00    15500\n",
       "2021-06-21 00:00:00    14500\n",
       "Name: row_sum, dtype: int64"
      ]
     },
     "execution_count": 27,
     "metadata": {},
     "output_type": "execute_result"
    }
   ],
   "source": [
    "team_df['row_sum'].sort_values(ascending=False) # 내림차순으로 row_sum 열 값을 기준으로 정렬"
   ]
  },
  {
   "cell_type": "code",
   "execution_count": 28,
   "id": "3d6e3441",
   "metadata": {},
   "outputs": [
    {
     "data": {
      "text/plain": [
       "2021-06-21 00:00:00    False\n",
       "2021-06-22 00:00:00    False\n",
       "2021-06-23 00:00:00     True\n",
       "2021-06-24 00:00:00     True\n",
       "2021-06-25 00:00:00     True\n",
       "column_sum              True\n",
       "Name: row_sum, dtype: bool"
      ]
     },
     "execution_count": 28,
     "metadata": {},
     "output_type": "execute_result"
    }
   ],
   "source": [
    "team_df['row_sum'] >= 17000 # 조건식은 boolean index 객체를 반환한다"
   ]
  },
  {
   "cell_type": "code",
   "execution_count": 29,
   "id": "e3f45ed6",
   "metadata": {},
   "outputs": [
    {
     "data": {
      "text/html": [
       "<div>\n",
       "<style scoped>\n",
       "    .dataframe tbody tr th:only-of-type {\n",
       "        vertical-align: middle;\n",
       "    }\n",
       "\n",
       "    .dataframe tbody tr th {\n",
       "        vertical-align: top;\n",
       "    }\n",
       "\n",
       "    .dataframe thead th {\n",
       "        text-align: right;\n",
       "    }\n",
       "</style>\n",
       "<table border=\"1\" class=\"dataframe\">\n",
       "  <thead>\n",
       "    <tr style=\"text-align: right;\">\n",
       "      <th></th>\n",
       "      <th>toto</th>\n",
       "      <th>apple</th>\n",
       "      <th>gildong</th>\n",
       "      <th>catanddog</th>\n",
       "      <th>row_sum</th>\n",
       "    </tr>\n",
       "  </thead>\n",
       "  <tbody>\n",
       "    <tr>\n",
       "      <th>2021-06-23 00:00:00</th>\n",
       "      <td>5000</td>\n",
       "      <td>6000</td>\n",
       "      <td>3000</td>\n",
       "      <td>3000</td>\n",
       "      <td>17000</td>\n",
       "    </tr>\n",
       "    <tr>\n",
       "      <th>2021-06-24 00:00:00</th>\n",
       "      <td>7000</td>\n",
       "      <td>5500</td>\n",
       "      <td>4000</td>\n",
       "      <td>5000</td>\n",
       "      <td>21500</td>\n",
       "    </tr>\n",
       "    <tr>\n",
       "      <th>2021-06-25 00:00:00</th>\n",
       "      <td>5500</td>\n",
       "      <td>4500</td>\n",
       "      <td>3000</td>\n",
       "      <td>4000</td>\n",
       "      <td>17000</td>\n",
       "    </tr>\n",
       "    <tr>\n",
       "      <th>column_sum</th>\n",
       "      <td>22000</td>\n",
       "      <td>25000</td>\n",
       "      <td>14500</td>\n",
       "      <td>24000</td>\n",
       "      <td>85500</td>\n",
       "    </tr>\n",
       "  </tbody>\n",
       "</table>\n",
       "</div>"
      ],
      "text/plain": [
       "                      toto  apple  gildong  catanddog  row_sum\n",
       "2021-06-23 00:00:00   5000   6000     3000       3000    17000\n",
       "2021-06-24 00:00:00   7000   5500     4000       5000    21500\n",
       "2021-06-25 00:00:00   5500   4500     3000       4000    17000\n",
       "column_sum           22000  25000    14500      24000    85500"
      ]
     },
     "execution_count": 29,
     "metadata": {},
     "output_type": "execute_result"
    }
   ],
   "source": [
    "team_df[team_df['row_sum'] >= 17000] # df에 조건식으로 반환된 인덱스 객체를 넣으면 조건식에 해당하는 행 반환"
   ]
  },
  {
   "cell_type": "code",
   "execution_count": 30,
   "id": "c262c562",
   "metadata": {},
   "outputs": [
    {
     "data": {
      "text/plain": [
       "toto         22000\n",
       "apple        25000\n",
       "gildong      14500\n",
       "catanddog    24000\n",
       "row_sum      85500\n",
       "Name: column_sum, dtype: int64"
      ]
     },
     "execution_count": 30,
     "metadata": {},
     "output_type": "execute_result"
    }
   ],
   "source": [
    "team_df[team_df['row_sum'] >= 17000].loc[\"column_sum\"]"
   ]
  },
  {
   "cell_type": "code",
   "execution_count": 31,
   "id": "75d5ecea",
   "metadata": {},
   "outputs": [
    {
     "data": {
      "text/html": [
       "<div>\n",
       "<style scoped>\n",
       "    .dataframe tbody tr th:only-of-type {\n",
       "        vertical-align: middle;\n",
       "    }\n",
       "\n",
       "    .dataframe tbody tr th {\n",
       "        vertical-align: top;\n",
       "    }\n",
       "\n",
       "    .dataframe thead th {\n",
       "        text-align: right;\n",
       "    }\n",
       "</style>\n",
       "<table border=\"1\" class=\"dataframe\">\n",
       "  <thead>\n",
       "    <tr style=\"text-align: right;\">\n",
       "      <th></th>\n",
       "      <th>apple</th>\n",
       "      <th>catanddog</th>\n",
       "      <th>row_sum</th>\n",
       "    </tr>\n",
       "  </thead>\n",
       "  <tbody>\n",
       "    <tr>\n",
       "      <th>2021-06-21 00:00:00</th>\n",
       "      <td>4000</td>\n",
       "      <td>7000</td>\n",
       "      <td>14500</td>\n",
       "    </tr>\n",
       "    <tr>\n",
       "      <th>2021-06-22 00:00:00</th>\n",
       "      <td>5000</td>\n",
       "      <td>5000</td>\n",
       "      <td>15500</td>\n",
       "    </tr>\n",
       "    <tr>\n",
       "      <th>2021-06-23 00:00:00</th>\n",
       "      <td>6000</td>\n",
       "      <td>3000</td>\n",
       "      <td>17000</td>\n",
       "    </tr>\n",
       "    <tr>\n",
       "      <th>2021-06-24 00:00:00</th>\n",
       "      <td>5500</td>\n",
       "      <td>5000</td>\n",
       "      <td>21500</td>\n",
       "    </tr>\n",
       "    <tr>\n",
       "      <th>2021-06-25 00:00:00</th>\n",
       "      <td>4500</td>\n",
       "      <td>4000</td>\n",
       "      <td>17000</td>\n",
       "    </tr>\n",
       "    <tr>\n",
       "      <th>column_sum</th>\n",
       "      <td>25000</td>\n",
       "      <td>24000</td>\n",
       "      <td>85500</td>\n",
       "    </tr>\n",
       "  </tbody>\n",
       "</table>\n",
       "</div>"
      ],
      "text/plain": [
       "                     apple  catanddog  row_sum\n",
       "2021-06-21 00:00:00   4000       7000    14500\n",
       "2021-06-22 00:00:00   5000       5000    15500\n",
       "2021-06-23 00:00:00   6000       3000    17000\n",
       "2021-06-24 00:00:00   5500       5000    21500\n",
       "2021-06-25 00:00:00   4500       4000    17000\n",
       "column_sum           25000      24000    85500"
      ]
     },
     "execution_count": 31,
     "metadata": {},
     "output_type": "execute_result"
    }
   ],
   "source": [
    "team_df.drop(['toto', 'gildong'], axis=1)"
   ]
  },
  {
   "cell_type": "code",
   "execution_count": 32,
   "id": "3bc656ea",
   "metadata": {},
   "outputs": [
    {
     "data": {
      "text/html": [
       "<div>\n",
       "<style scoped>\n",
       "    .dataframe tbody tr th:only-of-type {\n",
       "        vertical-align: middle;\n",
       "    }\n",
       "\n",
       "    .dataframe tbody tr th {\n",
       "        vertical-align: top;\n",
       "    }\n",
       "\n",
       "    .dataframe thead th {\n",
       "        text-align: right;\n",
       "    }\n",
       "</style>\n",
       "<table border=\"1\" class=\"dataframe\">\n",
       "  <thead>\n",
       "    <tr style=\"text-align: right;\">\n",
       "      <th></th>\n",
       "      <th>toto</th>\n",
       "      <th>apple</th>\n",
       "      <th>gildong</th>\n",
       "      <th>catanddog</th>\n",
       "      <th>row_sum</th>\n",
       "    </tr>\n",
       "  </thead>\n",
       "  <tbody>\n",
       "    <tr>\n",
       "      <th>2021-06-21 00:00:00</th>\n",
       "      <td>1500</td>\n",
       "      <td>4000</td>\n",
       "      <td>2000</td>\n",
       "      <td>7000</td>\n",
       "      <td>14500</td>\n",
       "    </tr>\n",
       "    <tr>\n",
       "      <th>2021-06-22 00:00:00</th>\n",
       "      <td>3000</td>\n",
       "      <td>5000</td>\n",
       "      <td>2500</td>\n",
       "      <td>5000</td>\n",
       "      <td>15500</td>\n",
       "    </tr>\n",
       "    <tr>\n",
       "      <th>2021-06-23 00:00:00</th>\n",
       "      <td>5000</td>\n",
       "      <td>6000</td>\n",
       "      <td>3000</td>\n",
       "      <td>3000</td>\n",
       "      <td>17000</td>\n",
       "    </tr>\n",
       "    <tr>\n",
       "      <th>2021-06-24 00:00:00</th>\n",
       "      <td>7000</td>\n",
       "      <td>5500</td>\n",
       "      <td>4000</td>\n",
       "      <td>5000</td>\n",
       "      <td>21500</td>\n",
       "    </tr>\n",
       "    <tr>\n",
       "      <th>2021-06-25 00:00:00</th>\n",
       "      <td>5500</td>\n",
       "      <td>4500</td>\n",
       "      <td>3000</td>\n",
       "      <td>4000</td>\n",
       "      <td>17000</td>\n",
       "    </tr>\n",
       "    <tr>\n",
       "      <th>column_sum</th>\n",
       "      <td>22000</td>\n",
       "      <td>25000</td>\n",
       "      <td>14500</td>\n",
       "      <td>24000</td>\n",
       "      <td>85500</td>\n",
       "    </tr>\n",
       "  </tbody>\n",
       "</table>\n",
       "</div>"
      ],
      "text/plain": [
       "                      toto  apple  gildong  catanddog  row_sum\n",
       "2021-06-21 00:00:00   1500   4000     2000       7000    14500\n",
       "2021-06-22 00:00:00   3000   5000     2500       5000    15500\n",
       "2021-06-23 00:00:00   5000   6000     3000       3000    17000\n",
       "2021-06-24 00:00:00   7000   5500     4000       5000    21500\n",
       "2021-06-25 00:00:00   5500   4500     3000       4000    17000\n",
       "column_sum           22000  25000    14500      24000    85500"
      ]
     },
     "execution_count": 32,
     "metadata": {},
     "output_type": "execute_result"
    }
   ],
   "source": [
    "team_df"
   ]
  },
  {
   "cell_type": "code",
   "execution_count": 33,
   "id": "29f7f126",
   "metadata": {},
   "outputs": [
    {
     "data": {
      "text/plain": [
       "row_sum    85500\n",
       "apple      25000\n",
       "Name: column_sum, dtype: int64"
      ]
     },
     "execution_count": 33,
     "metadata": {},
     "output_type": "execute_result"
    }
   ],
   "source": [
    "# 합계 점수가 1등 2등만 선택해보자\n",
    "\n",
    "team_df.loc[\"column_sum\"].sort_values(axis=0, ascending=False).iloc[:2]"
   ]
  },
  {
   "cell_type": "code",
   "execution_count": 34,
   "id": "68bc93bf",
   "metadata": {},
   "outputs": [
    {
     "data": {
      "text/html": [
       "<div>\n",
       "<style scoped>\n",
       "    .dataframe tbody tr th:only-of-type {\n",
       "        vertical-align: middle;\n",
       "    }\n",
       "\n",
       "    .dataframe tbody tr th {\n",
       "        vertical-align: top;\n",
       "    }\n",
       "\n",
       "    .dataframe thead th {\n",
       "        text-align: right;\n",
       "    }\n",
       "</style>\n",
       "<table border=\"1\" class=\"dataframe\">\n",
       "  <thead>\n",
       "    <tr style=\"text-align: right;\">\n",
       "      <th></th>\n",
       "      <th>순위</th>\n",
       "      <th>연속</th>\n",
       "      <th>누적</th>\n",
       "      <th>종목명</th>\n",
       "      <th>현재가</th>\n",
       "      <th>전일비</th>\n",
       "      <th>등락률</th>\n",
       "      <th>거래량</th>\n",
       "    </tr>\n",
       "  </thead>\n",
       "  <tbody>\n",
       "    <tr>\n",
       "      <th>0</th>\n",
       "      <td>1</td>\n",
       "      <td>2</td>\n",
       "      <td>2</td>\n",
       "      <td>솔고바이오</td>\n",
       "      <td>933</td>\n",
       "      <td>229</td>\n",
       "      <td>29.97</td>\n",
       "      <td>4657527</td>\n",
       "    </tr>\n",
       "    <tr>\n",
       "      <th>1</th>\n",
       "      <td>2</td>\n",
       "      <td>1</td>\n",
       "      <td>3</td>\n",
       "      <td>한세엠케이</td>\n",
       "      <td>9490</td>\n",
       "      <td>2190</td>\n",
       "      <td>30.00</td>\n",
       "      <td>19568672</td>\n",
       "    </tr>\n",
       "    <tr>\n",
       "      <th>2</th>\n",
       "      <td>3</td>\n",
       "      <td>1</td>\n",
       "      <td>2</td>\n",
       "      <td>네오오토</td>\n",
       "      <td>9990</td>\n",
       "      <td>2300</td>\n",
       "      <td>29.91</td>\n",
       "      <td>3157505</td>\n",
       "    </tr>\n",
       "    <tr>\n",
       "      <th>3</th>\n",
       "      <td>4</td>\n",
       "      <td>1</td>\n",
       "      <td>4</td>\n",
       "      <td>엄지하우스</td>\n",
       "      <td>4885</td>\n",
       "      <td>635</td>\n",
       "      <td>14.94</td>\n",
       "      <td>7231</td>\n",
       "    </tr>\n",
       "  </tbody>\n",
       "</table>\n",
       "</div>"
      ],
      "text/plain": [
       "   순위  연속  누적    종목명   현재가   전일비    등락률       거래량\n",
       "0   1   2   2  솔고바이오   933   229  29.97   4657527\n",
       "1   2   1   3  한세엠케이  9490  2190  30.00  19568672\n",
       "2   3   1   2   네오오토  9990  2300  29.91   3157505\n",
       "3   4   1   4  엄지하우스  4885   635  14.94      7231"
      ]
     },
     "execution_count": 34,
     "metadata": {},
     "output_type": "execute_result"
    }
   ],
   "source": [
    "# 실습 1-1\n",
    "\n",
    "dat = { \"순위\":[1,2,3,4],\n",
    "        \"연속\":[2,1,1,1],\n",
    "        \"누적\":[2,3,2,4],\n",
    "        \"종목명\":[\"솔고바이오\", \"한세엠케이\", \"네오오토\", \"엄지하우스\"],\n",
    "        \"현재가\":[933,9490, 9990, 4885],\n",
    "        \"전일비\":[229, 2190, 2300, 635],\n",
    "        \"등락률\":[29.97, 30.00, 29.91, 14.94],\n",
    "        \"거래량\":[4657527, 19568672, 3157505, 7231]}\n",
    "dat_df = pd.DataFrame(dat)\n",
    "dat_df"
   ]
  },
  {
   "cell_type": "code",
   "execution_count": 35,
   "id": "e13f6ba0",
   "metadata": {},
   "outputs": [
    {
     "data": {
      "text/html": [
       "<div>\n",
       "<style scoped>\n",
       "    .dataframe tbody tr th:only-of-type {\n",
       "        vertical-align: middle;\n",
       "    }\n",
       "\n",
       "    .dataframe tbody tr th {\n",
       "        vertical-align: top;\n",
       "    }\n",
       "\n",
       "    .dataframe thead th {\n",
       "        text-align: right;\n",
       "    }\n",
       "</style>\n",
       "<table border=\"1\" class=\"dataframe\">\n",
       "  <thead>\n",
       "    <tr style=\"text-align: right;\">\n",
       "      <th></th>\n",
       "      <th>순위</th>\n",
       "      <th>연속</th>\n",
       "      <th>누적</th>\n",
       "      <th>종목명</th>\n",
       "      <th>현재가</th>\n",
       "      <th>전일비</th>\n",
       "      <th>등락률</th>\n",
       "      <th>거래량</th>\n",
       "    </tr>\n",
       "  </thead>\n",
       "  <tbody>\n",
       "    <tr>\n",
       "      <th>2021-06-24</th>\n",
       "      <td>1</td>\n",
       "      <td>2</td>\n",
       "      <td>2</td>\n",
       "      <td>솔고바이오</td>\n",
       "      <td>933</td>\n",
       "      <td>229</td>\n",
       "      <td>29.97</td>\n",
       "      <td>4657527</td>\n",
       "    </tr>\n",
       "    <tr>\n",
       "      <th>2021-06-25</th>\n",
       "      <td>2</td>\n",
       "      <td>1</td>\n",
       "      <td>3</td>\n",
       "      <td>한세엠케이</td>\n",
       "      <td>9490</td>\n",
       "      <td>2190</td>\n",
       "      <td>30.00</td>\n",
       "      <td>19568672</td>\n",
       "    </tr>\n",
       "    <tr>\n",
       "      <th>2021-06-26</th>\n",
       "      <td>3</td>\n",
       "      <td>1</td>\n",
       "      <td>2</td>\n",
       "      <td>네오오토</td>\n",
       "      <td>9990</td>\n",
       "      <td>2300</td>\n",
       "      <td>29.91</td>\n",
       "      <td>3157505</td>\n",
       "    </tr>\n",
       "    <tr>\n",
       "      <th>2021-06-27</th>\n",
       "      <td>4</td>\n",
       "      <td>1</td>\n",
       "      <td>4</td>\n",
       "      <td>엄지하우스</td>\n",
       "      <td>4885</td>\n",
       "      <td>635</td>\n",
       "      <td>14.94</td>\n",
       "      <td>7231</td>\n",
       "    </tr>\n",
       "  </tbody>\n",
       "</table>\n",
       "</div>"
      ],
      "text/plain": [
       "            순위  연속  누적    종목명   현재가   전일비    등락률       거래량\n",
       "2021-06-24   1   2   2  솔고바이오   933   229  29.97   4657527\n",
       "2021-06-25   2   1   3  한세엠케이  9490  2190  30.00  19568672\n",
       "2021-06-26   3   1   2   네오오토  9990  2300  29.91   3157505\n",
       "2021-06-27   4   1   4  엄지하우스  4885   635  14.94      7231"
      ]
     },
     "execution_count": 35,
     "metadata": {},
     "output_type": "execute_result"
    }
   ],
   "source": [
    "# 실습 1-2\n",
    "\n",
    "# 날짜 인덱스\n",
    "\n",
    "date_index = list(pd.date_range(start=\"2021-06-24\", end=\"2021-06-27\"))\n",
    "dat_df.index = date_index\n",
    "dat_df"
   ]
  },
  {
   "cell_type": "code",
   "execution_count": 36,
   "id": "542b127e",
   "metadata": {},
   "outputs": [
    {
     "name": "stdout",
     "output_type": "stream",
     "text": [
      "순위         4\n",
      "연속         1\n",
      "누적         4\n",
      "종목명    엄지하우스\n",
      "현재가     4885\n",
      "전일비      635\n",
      "등락률    14.94\n",
      "거래량     7231\n",
      "Name: 2021-06-27 00:00:00, dtype: object\n"
     ]
    },
    {
     "data": {
      "text/html": [
       "<div>\n",
       "<style scoped>\n",
       "    .dataframe tbody tr th:only-of-type {\n",
       "        vertical-align: middle;\n",
       "    }\n",
       "\n",
       "    .dataframe tbody tr th {\n",
       "        vertical-align: top;\n",
       "    }\n",
       "\n",
       "    .dataframe thead th {\n",
       "        text-align: right;\n",
       "    }\n",
       "</style>\n",
       "<table border=\"1\" class=\"dataframe\">\n",
       "  <thead>\n",
       "    <tr style=\"text-align: right;\">\n",
       "      <th></th>\n",
       "      <th>순위</th>\n",
       "      <th>연속</th>\n",
       "      <th>누적</th>\n",
       "      <th>종목명</th>\n",
       "      <th>현재가</th>\n",
       "      <th>전일비</th>\n",
       "      <th>등락률</th>\n",
       "      <th>거래량</th>\n",
       "    </tr>\n",
       "  </thead>\n",
       "  <tbody>\n",
       "    <tr>\n",
       "      <th>2021-06-25</th>\n",
       "      <td>2</td>\n",
       "      <td>1</td>\n",
       "      <td>3</td>\n",
       "      <td>한세엠케이</td>\n",
       "      <td>9490</td>\n",
       "      <td>2190</td>\n",
       "      <td>30.00</td>\n",
       "      <td>19568672</td>\n",
       "    </tr>\n",
       "    <tr>\n",
       "      <th>2021-06-26</th>\n",
       "      <td>3</td>\n",
       "      <td>1</td>\n",
       "      <td>2</td>\n",
       "      <td>네오오토</td>\n",
       "      <td>9990</td>\n",
       "      <td>2300</td>\n",
       "      <td>29.91</td>\n",
       "      <td>3157505</td>\n",
       "    </tr>\n",
       "  </tbody>\n",
       "</table>\n",
       "</div>"
      ],
      "text/plain": [
       "            순위  연속  누적    종목명   현재가   전일비    등락률       거래량\n",
       "2021-06-25   2   1   3  한세엠케이  9490  2190  30.00  19568672\n",
       "2021-06-26   3   1   2   네오오토  9990  2300  29.91   3157505"
      ]
     },
     "execution_count": 36,
     "metadata": {},
     "output_type": "execute_result"
    }
   ],
   "source": [
    "# 실습 1-3\n",
    "\n",
    "# 4행 선택\n",
    "print(dat_df.iloc[-1])\n",
    "\n",
    "# 2-3행 선택\n",
    "dat_df.iloc[1:3]"
   ]
  },
  {
   "cell_type": "code",
   "execution_count": 37,
   "id": "44f613d7",
   "metadata": {},
   "outputs": [
    {
     "data": {
      "text/plain": [
       "순위         4\n",
       "연속         1\n",
       "누적         4\n",
       "종목명    엄지하우스\n",
       "현재가     4885\n",
       "전일비      635\n",
       "등락률    14.94\n",
       "거래량     7231\n",
       "Name: 2021-06-27 00:00:00, dtype: object"
      ]
     },
     "execution_count": 37,
     "metadata": {},
     "output_type": "execute_result"
    }
   ],
   "source": [
    "# 실습 1-4\n",
    "\n",
    " # 2, 3행 선택하기\n",
    "dat_df.loc[\"2021-06-25\":\"2021-06-26\"]\n",
    "\n",
    "# 4행 선택하기\n",
    "dat_df.loc[\"2021-06-27\"]"
   ]
  },
  {
   "cell_type": "code",
   "execution_count": 38,
   "id": "cd88978a",
   "metadata": {},
   "outputs": [
    {
     "data": {
      "text/html": [
       "<div>\n",
       "<style scoped>\n",
       "    .dataframe tbody tr th:only-of-type {\n",
       "        vertical-align: middle;\n",
       "    }\n",
       "\n",
       "    .dataframe tbody tr th {\n",
       "        vertical-align: top;\n",
       "    }\n",
       "\n",
       "    .dataframe thead th {\n",
       "        text-align: right;\n",
       "    }\n",
       "</style>\n",
       "<table border=\"1\" class=\"dataframe\">\n",
       "  <thead>\n",
       "    <tr style=\"text-align: right;\">\n",
       "      <th></th>\n",
       "      <th>연속</th>\n",
       "      <th>누적</th>\n",
       "    </tr>\n",
       "  </thead>\n",
       "  <tbody>\n",
       "    <tr>\n",
       "      <th>2021-06-25</th>\n",
       "      <td>1</td>\n",
       "      <td>3</td>\n",
       "    </tr>\n",
       "    <tr>\n",
       "      <th>2021-06-26</th>\n",
       "      <td>1</td>\n",
       "      <td>2</td>\n",
       "    </tr>\n",
       "  </tbody>\n",
       "</table>\n",
       "</div>"
      ],
      "text/plain": [
       "            연속  누적\n",
       "2021-06-25   1   3\n",
       "2021-06-26   1   2"
      ]
     },
     "execution_count": 38,
     "metadata": {},
     "output_type": "execute_result"
    }
   ],
   "source": [
    "# 실습 1-5\n",
    "\n",
    "# 2행 2열부터 3행 3열까지 선택해보기\n",
    "\n",
    "dat_df.loc[\"2021-06-25\":\"2021-06-26\", \"연속\":\"누적\"]"
   ]
  },
  {
   "cell_type": "code",
   "execution_count": 46,
   "id": "f3348675",
   "metadata": {},
   "outputs": [
    {
     "data": {
      "text/plain": [
       "2"
      ]
     },
     "execution_count": 46,
     "metadata": {},
     "output_type": "execute_result"
    }
   ],
   "source": []
  },
  {
   "cell_type": "code",
   "execution_count": null,
   "id": "c5768f77",
   "metadata": {},
   "outputs": [],
   "source": []
  }
 ],
 "metadata": {
  "kernelspec": {
   "display_name": "Python 3",
   "language": "python",
   "name": "python3"
  },
  "language_info": {
   "codemirror_mode": {
    "name": "ipython",
    "version": 3
   },
   "file_extension": ".py",
   "mimetype": "text/x-python",
   "name": "python",
   "nbconvert_exporter": "python",
   "pygments_lexer": "ipython3",
   "version": "3.8.5"
  }
 },
 "nbformat": 4,
 "nbformat_minor": 5
}
